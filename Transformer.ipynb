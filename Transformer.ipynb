{
  "cells": [
    {
      "cell_type": "markdown",
      "metadata": {
        "id": "view-in-github",
        "colab_type": "text"
      },
      "source": [
        "<a href=\"https://colab.research.google.com/github/Hamza-Ali0237/PyTorch-Transformer-From-Scratch/blob/main/Transformer.ipynb\" target=\"_parent\"><img src=\"https://colab.research.google.com/assets/colab-badge.svg\" alt=\"Open In Colab\"/></a>"
      ]
    },
    {
      "cell_type": "markdown",
      "metadata": {
        "id": "T7nw5GkJJ6nJ"
      },
      "source": [
        "# Encoder-Decoder Tranformer From Scratch Using PyTorch"
      ]
    },
    {
      "cell_type": "markdown",
      "source": [
        "Implemeting The Encoder-Decoder Transformer Architecture From The 2017 Paper Published By Google [\"*Attention Is All You Need* \"](https://arxiv.org/abs/1706.03762)"
      ],
      "metadata": {
        "id": "GgdpC70oKARX"
      }
    },
    {
      "cell_type": "code",
      "execution_count": 2,
      "metadata": {
        "vscode": {
          "languageId": "plaintext"
        },
        "id": "pMlvhmCkJ6nO"
      },
      "outputs": [],
      "source": [
        "# Importing Libraries\n",
        "import math\n",
        "import torch\n",
        "from torch import nn\n",
        "import torch.nn.functional as F"
      ]
    },
    {
      "cell_type": "code",
      "source": [
        "class InputEmbeddings(nn.Module):\n",
        "  def __init__(self, vocab_size, d_model):\n",
        "    super().__init__()\n",
        "\n",
        "    self.d_model = d_model\n",
        "    self.vocab_size = vocab_size\n",
        "    self.embedding = nn.Embedding(\n",
        "        vocab_size, d_model\n",
        "    )\n",
        "\n",
        "  def forward(self, x):\n",
        "    return self.embeddings(x) * math.sqrt(self.d_model)"
      ],
      "metadata": {
        "id": "B0p34cJvL7A7"
      },
      "execution_count": 4,
      "outputs": []
    },
    {
      "cell_type": "code",
      "source": [
        "class PositionalEncoding(nn.Module):\n",
        "  def __init__(self, d_model, max_seq_len):\n",
        "    super().__init__()\n",
        "\n",
        "    pe = torch.zeros(max_seq_len, d_model)\n",
        "    position = torch.arange(0, max_seq_len, dtype=torch.float).unsqueeze(1)\n",
        "    div_term = torch.exp(torch.arange(0, d_model, 2, dtype=torch.float) * -(math.log(10000.0)/d_model))\n",
        "\n",
        "    pe[0, 0::2] = torch.sin(position * div_term)\n",
        "    pe[0, 1::2] = torch.cos(position * div_term)\n",
        "\n",
        "    self.register_buffer('pe', pe.unsqueeze(0))\n",
        "\n",
        "  def forward(self, x):\n",
        "    return x + self.pe[:, :x.size(1)]"
      ],
      "metadata": {
        "id": "Mjs1scoQxlXM"
      },
      "execution_count": 5,
      "outputs": []
    },
    {
      "cell_type": "code",
      "source": [
        "class MultiHeadAttention(nn.Module):\n",
        "  ..."
      ],
      "metadata": {
        "id": "srg_Fyvsxk80"
      },
      "execution_count": null,
      "outputs": []
    },
    {
      "cell_type": "code",
      "source": [
        "class FeedForwardSubLayer(nn.Module):\n",
        "  ..."
      ],
      "metadata": {
        "id": "rgkPh9ewxk6N"
      },
      "execution_count": null,
      "outputs": []
    },
    {
      "cell_type": "code",
      "source": [
        "class EncoderLayer(nn.Module):\n",
        "  ...\n",
        "\n",
        "class DecoderLayer(nn.Module):\n",
        "  ..."
      ],
      "metadata": {
        "id": "B8sm3DBtxk1i"
      },
      "execution_count": null,
      "outputs": []
    },
    {
      "cell_type": "code",
      "source": [
        "class TransformerEncoder(nn.Module):\n",
        "  ...\n",
        "\n",
        "class TransformerDecoder(nn.Module):\n",
        "  ..."
      ],
      "metadata": {
        "id": "PmtN97nOxkzc"
      },
      "execution_count": null,
      "outputs": []
    },
    {
      "cell_type": "code",
      "source": [
        "class ClassificationHead(nn.Module):\n",
        "  ..."
      ],
      "metadata": {
        "id": "l6JeZo_Sxkwl"
      },
      "execution_count": null,
      "outputs": []
    },
    {
      "cell_type": "code",
      "source": [
        "class Transformer(nn.Module):\n",
        ""
      ],
      "metadata": {
        "id": "LN9DRpWjxkss"
      },
      "execution_count": null,
      "outputs": []
    }
  ],
  "metadata": {
    "language_info": {
      "name": "python"
    },
    "colab": {
      "provenance": [],
      "include_colab_link": true
    },
    "kernelspec": {
      "name": "python3",
      "display_name": "Python 3"
    }
  },
  "nbformat": 4,
  "nbformat_minor": 0
}