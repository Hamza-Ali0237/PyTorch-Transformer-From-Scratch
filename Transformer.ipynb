{
  "cells": [
    {
      "cell_type": "markdown",
      "metadata": {
        "id": "view-in-github",
        "colab_type": "text"
      },
      "source": [
        "<a href=\"https://colab.research.google.com/github/Hamza-Ali0237/PyTorch-Transformer-From-Scratch/blob/main/Transformer.ipynb\" target=\"_parent\"><img src=\"https://colab.research.google.com/assets/colab-badge.svg\" alt=\"Open In Colab\"/></a>"
      ]
    },
    {
      "cell_type": "markdown",
      "metadata": {
        "id": "T7nw5GkJJ6nJ"
      },
      "source": [
        "# Encoder-Decoder Tranformer From Scratch Using PyTorch"
      ]
    },
    {
      "cell_type": "markdown",
      "source": [
        "Implemeting The Encoder-Decoder Transformer Architecture From The 2017 Paper Published By Google [\"*Attention Is All You Need* \"](https://arxiv.org/abs/1706.03762)"
      ],
      "metadata": {
        "id": "GgdpC70oKARX"
      }
    },
    {
      "cell_type": "code",
      "execution_count": null,
      "metadata": {
        "vscode": {
          "languageId": "plaintext"
        },
        "id": "pMlvhmCkJ6nO"
      },
      "outputs": [],
      "source": [
        "# Importing Libraries\n",
        "import torch\n",
        "from torch import nn\n",
        "import torch.nn.functional as F"
      ]
    },
    {
      "cell_type": "code",
      "source": [],
      "metadata": {
        "id": "B0p34cJvL7A7"
      },
      "execution_count": null,
      "outputs": []
    }
  ],
  "metadata": {
    "language_info": {
      "name": "python"
    },
    "colab": {
      "provenance": [],
      "include_colab_link": true
    }
  },
  "nbformat": 4,
  "nbformat_minor": 0
}