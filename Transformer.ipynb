{
  "cells": [
    {
      "cell_type": "markdown",
      "metadata": {
        "id": "view-in-github",
        "colab_type": "text"
      },
      "source": [
        "<a href=\"https://colab.research.google.com/github/Hamza-Ali0237/PyTorch-Transformer-From-Scratch/blob/main/Transformer.ipynb\" target=\"_parent\"><img src=\"https://colab.research.google.com/assets/colab-badge.svg\" alt=\"Open In Colab\"/></a>"
      ]
    },
    {
      "cell_type": "markdown",
      "metadata": {
        "id": "T7nw5GkJJ6nJ"
      },
      "source": [
        "# Encoder-Decoder Tranformer From Scratch Using PyTorch"
      ]
    },
    {
      "cell_type": "markdown",
      "source": [
        "Implemeting The Encoder-Decoder Transformer Architecture From The 2017 Paper Published By Google [\"*Attention Is All You Need* \"](https://arxiv.org/abs/1706.03762)"
      ],
      "metadata": {
        "id": "GgdpC70oKARX"
      }
    },
    {
      "cell_type": "code",
      "execution_count": 1,
      "metadata": {
        "vscode": {
          "languageId": "plaintext"
        },
        "id": "pMlvhmCkJ6nO"
      },
      "outputs": [],
      "source": [
        "# Importing Libraries\n",
        "import math\n",
        "import torch\n",
        "from torch import nn\n",
        "import torch.nn.functional as F"
      ]
    },
    {
      "cell_type": "code",
      "source": [
        "class InputEmbeddings(nn.Module):\n",
        "  def __init__(self, vocab_size, d_model):\n",
        "    super().__init__()\n",
        "\n",
        "    self.d_model = d_model\n",
        "    self.vocab_size = vocab_size\n",
        "    self.embeddings = nn.Embedding(\n",
        "        vocab_size, d_model\n",
        "    )\n",
        "\n",
        "  def forward(self, x):\n",
        "    return self.embeddings(x) * math.sqrt(self.d_model)"
      ],
      "metadata": {
        "id": "B0p34cJvL7A7"
      },
      "execution_count": 2,
      "outputs": []
    },
    {
      "cell_type": "code",
      "source": [
        "class PositionalEncoding(nn.Module):\n",
        "  def __init__(self, d_model, max_seq_len):\n",
        "    super().__init__()\n",
        "\n",
        "    pe = torch.zeros(max_seq_len, d_model)\n",
        "    position = torch.arange(0, max_seq_len, dtype=torch.float).unsqueeze(1)\n",
        "    div_term = torch.exp(torch.arange(0, d_model, 2).float() * -(math.log(10000.0)/d_model))\n",
        "\n",
        "    pe[:, 0::2] = torch.sin(position * div_term)\n",
        "    pe[:, 1::2] = torch.cos(position * div_term)\n",
        "\n",
        "    self.register_buffer('pe', pe.unsqueeze(0))\n",
        "\n",
        "  def forward(self, x):\n",
        "    return x + self.pe[:, :x.size(1)]"
      ],
      "metadata": {
        "id": "Mjs1scoQxlXM"
      },
      "execution_count": 3,
      "outputs": []
    },
    {
      "cell_type": "code",
      "source": [
        "class MultiHeadAttention(nn.Module):\n",
        "  def __init__(self, d_model, num_heads):\n",
        "    super().__init__()\n",
        "\n",
        "    assert d_model % num_heads == 0, 'd_model must be divisible by num_heads.'\n",
        "\n",
        "    self.num_heads = num_heads\n",
        "    self.d_model = d_model\n",
        "    self.head_dim = d_model // num_heads\n",
        "\n",
        "    self.query_linear = nn.Linear(d_model, d_model, bias=False)\n",
        "    self.key_linear = nn.Linear(d_model, d_model, bias=False)\n",
        "    self.value_linear = nn.Linear(d_model, d_model, bias=False)\n",
        "\n",
        "    self.output_linear = nn.Linear(d_model, d_model)\n",
        "\n",
        "  def split_heads(self, x, batch_size):\n",
        "    seq_len = x.size(1)\n",
        "    x = x.reshape(batch_size, seq_len, self.num_heads, self.head_dim)\n",
        "\n",
        "    return x.permute(0, 2, 1, 3)\n",
        "\n",
        "  def compute_attention(self, query, key, value, mask=None):\n",
        "    scores = torch.matmul(query, key.transpose(-2, -1)) / (self.head_dim ** 0.5)\n",
        "\n",
        "    if mask is not None:\n",
        "      scores = scores.masked_fill(mask == 0, float('-inf'))\n",
        "\n",
        "    attention_weights = F.softmax(scores, dim=-1)\n",
        "\n",
        "    return torch.matmul(attention_weights, value)\n",
        "\n",
        "  def combine_heads(self, x, batch_size):\n",
        "    x = x.permute(0, 2, 1, 3).contiguous()\n",
        "    return x.view(batch_size, -1, self.d_model)\n",
        "\n",
        "  def forward(self, q, k, v, mask=None):\n",
        "    batch_size = q.size(0)\n",
        "\n",
        "    query = self.split_heads(self.query_linear(q), batch_size)\n",
        "    key = self.split_heads(self.key_linear(k), batch_size)\n",
        "    value = self.split_heads(self.value_linear(v), batch_size)\n",
        "\n",
        "    attention_weights = self.compute_attention(query, key, value, mask)\n",
        "\n",
        "    output = self.combine_heads(attention_weights, batch_size)\n",
        "\n",
        "    return self.output_linear(output)"
      ],
      "metadata": {
        "id": "srg_Fyvsxk80"
      },
      "execution_count": 4,
      "outputs": []
    },
    {
      "cell_type": "code",
      "source": [
        "class FeedForwardSubLayer(nn.Module):\n",
        "  def __init__(self, d_model, d_ff):\n",
        "    super().__init__()\n",
        "    self.fc1 = nn.Linear(d_model, d_ff)\n",
        "    self.fc2 = nn.Linear(d_ff, d_model)\n",
        "    self.relu = nn.ReLU()\n",
        "\n",
        "  def forward(self, x):\n",
        "    return self.fc2(self.relu(self.fc1(x)))"
      ],
      "metadata": {
        "id": "rgkPh9ewxk6N"
      },
      "execution_count": 5,
      "outputs": []
    },
    {
      "cell_type": "code",
      "source": [
        "class EncoderLayer(nn.Module):\n",
        "  def __init__(self, d_model, num_heads, d_ff, dropout):\n",
        "    super().__init__()\n",
        "\n",
        "    self.self_attn = MultiHeadAttention(d_model, num_heads)\n",
        "\n",
        "    self.ff_sublayer = FeedForwardSubLayer(d_model, duff)\n",
        "\n",
        "    self.norm1 = nn.LayerNorm(d_model)\n",
        "    self.norm2 = nn.LayerNorm(d_model)\n",
        "\n",
        "    self.dropout = nn.Dropout(dropout)\n",
        "\n",
        "  def forward(self, x, src_mask):\n",
        "    attn_output = self.self_attn(x, x, x, src_mask)\n",
        "\n",
        "    x = self.norm1(x + self.dropout(attn_output))\n",
        "\n",
        "    ff_output = self.ff_sublayer(x)\n",
        "\n",
        "    x = self.norm2(x + self.dropout(ff_output))\n",
        "\n",
        "    return x\n",
        "\n",
        "class DecoderLayer(nn.Module):\n",
        "  ..."
      ],
      "metadata": {
        "id": "B8sm3DBtxk1i"
      },
      "execution_count": null,
      "outputs": []
    },
    {
      "cell_type": "code",
      "source": [
        "class TransformerEncoder(nn.Module):\n",
        "  ...\n",
        "\n",
        "class TransformerDecoder(nn.Module):\n",
        "  ..."
      ],
      "metadata": {
        "id": "PmtN97nOxkzc"
      },
      "execution_count": null,
      "outputs": []
    },
    {
      "cell_type": "code",
      "source": [
        "class ClassificationHead(nn.Module):\n",
        "  ..."
      ],
      "metadata": {
        "id": "l6JeZo_Sxkwl"
      },
      "execution_count": null,
      "outputs": []
    },
    {
      "cell_type": "code",
      "source": [
        "class Transformer(nn.Module):\n",
        "  ..."
      ],
      "metadata": {
        "id": "LN9DRpWjxkss"
      },
      "execution_count": null,
      "outputs": []
    },
    {
      "cell_type": "code",
      "source": [],
      "metadata": {
        "id": "fUBbaPAvAjjU"
      },
      "execution_count": null,
      "outputs": []
    }
  ],
  "metadata": {
    "language_info": {
      "name": "python"
    },
    "colab": {
      "provenance": [],
      "include_colab_link": true
    },
    "kernelspec": {
      "name": "python3",
      "display_name": "Python 3"
    }
  },
  "nbformat": 4,
  "nbformat_minor": 0
}